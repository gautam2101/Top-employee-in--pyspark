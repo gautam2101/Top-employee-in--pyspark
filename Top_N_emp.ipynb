{
  "cells": [
    {
      "cell_type": "code",
      "execution_count": null,
      "metadata": {
        "colab": {
          "base_uri": "https://localhost:8080/"
        },
        "id": "fDz9sp_nDAsM",
        "outputId": "25818695-3471-4487-a974-e2440e165b72"
      },
      "outputs": [
        {
          "output_type": "stream",
          "name": "stdout",
          "text": [
            "Requirement already satisfied: pyspark in /usr/local/lib/python3.10/dist-packages (3.5.2)\n",
            "Requirement already satisfied: py4j==0.10.9.7 in /usr/local/lib/python3.10/dist-packages (from pyspark) (0.10.9.7)\n"
          ]
        }
      ],
      "source": [
        "# import pyspark in google colab\n",
        "!pip install pyspark"
      ]
    },
    {
      "cell_type": "markdown",
      "source": [
        "# Call library\n",
        "\n"
      ],
      "metadata": {
        "id": "w3ZKR1xWb2UW"
      }
    },
    {
      "cell_type": "code",
      "execution_count": null,
      "metadata": {
        "id": "1Ss30_n1j6Cr"
      },
      "outputs": [],
      "source": [
        "import pyspark\n",
        "from pyspark import SparkContext\n",
        "from pyspark.sql import SparkSession, DataFrame\n",
        "import pyspark.sql.functions as f\n",
        "from pyspark.sql.window import Window\n",
        "from pyspark.sql import *"
      ]
    },
    {
      "cell_type": "markdown",
      "source": [
        "# create Sparksession\n"
      ],
      "metadata": {
        "id": "KyH5tRricI5x"
      }
    },
    {
      "cell_type": "code",
      "execution_count": null,
      "metadata": {
        "id": "rG119QOrMxGd"
      },
      "outputs": [],
      "source": [
        "spark = SparkSession.builder.appName('Gautam').getOrCreate()"
      ]
    },
    {
      "cell_type": "markdown",
      "source": [
        "#call spark session"
      ],
      "metadata": {
        "id": "QL_IPGFycYhE"
      }
    },
    {
      "cell_type": "code",
      "execution_count": null,
      "metadata": {
        "colab": {
          "base_uri": "https://localhost:8080/",
          "height": 219
        },
        "id": "ViIxo0ukNELC",
        "outputId": "4f4d2a4d-7657-4b94-fe4a-cee3c6c077b2"
      },
      "outputs": [
        {
          "output_type": "execute_result",
          "data": {
            "text/plain": [
              "<pyspark.sql.session.SparkSession at 0x7a79c525ab60>"
            ],
            "text/html": [
              "\n",
              "            <div>\n",
              "                <p><b>SparkSession - in-memory</b></p>\n",
              "                \n",
              "        <div>\n",
              "            <p><b>SparkContext</b></p>\n",
              "\n",
              "            <p><a href=\"http://014a41f54e7d:4040\">Spark UI</a></p>\n",
              "\n",
              "            <dl>\n",
              "              <dt>Version</dt>\n",
              "                <dd><code>v3.5.2</code></dd>\n",
              "              <dt>Master</dt>\n",
              "                <dd><code>local[*]</code></dd>\n",
              "              <dt>AppName</dt>\n",
              "                <dd><code>Gautam</code></dd>\n",
              "            </dl>\n",
              "        </div>\n",
              "        \n",
              "            </div>\n",
              "        "
            ]
          },
          "metadata": {},
          "execution_count": 4
        }
      ],
      "source": [
        "spark\n"
      ]
    },
    {
      "cell_type": "markdown",
      "source": [
        "# Enter data"
      ],
      "metadata": {
        "id": "7_-JohrJckgw"
      }
    },
    {
      "cell_type": "code",
      "execution_count": null,
      "metadata": {
        "id": "hJkyqzBJeN8m"
      },
      "outputs": [],
      "source": [
        "data =[\n",
        "    (1, \"Alice\", \"HR\", 70000),\n",
        "    (2, \"Bob\", \"HR\", 80000),\n",
        "    (3, \"Charlie\", \"IT\", 90000),\n",
        "    (4, \"David\", \"IT\", 95000),\n",
        "    (5, \"Eve\", \"Finance\", 100000),\n",
        "    (6, \"Frank\", \"Finance\", 95000),\n",
        "    (7, \"Grace\", \"HR\", 75000),\n",
        "    (8, \"Hannah\", \"HR\", 82000),\n",
        "    (9, \"Ivy\", \"IT\", 87000),\n",
        "    (10, \"Jack\", \"IT\", 93000),\n",
        "    (11, \"Karen\", \"IT\", 97000),\n",
        "    (12, \"Leo\", \"Finance\", 98000),\n",
        "    (13, \"Mia\", \"Finance\", 105000),\n",
        "    (14, \"Nina\", \"Sales\", 110000),\n",
        "    (15, \"Oscar\", \"Sales\", 95000),\n",
        "    (16, \"Paul\", \"Marketing\", 90000),\n",
        "    (17, \"Quinn\", \"Marketing\", 92000),\n",
        "    (18, \"Rita\", \"Marketing\", 88000),\n",
        "    (19, \"Steve\", \"Sales\", 99000),\n",
        "    (20, \"Tina\", \"Engineering\", 115000),\n",
        "    (21, \"Uma\", \"Engineering\", 110000),\n",
        "    (22, \"Vera\", \"Engineering\", 108000)\n",
        "]\n",
        "\n",
        "columns = [\"Id\",\"Name\",\"Department\",\"Salary\"]\n"
      ]
    },
    {
      "cell_type": "markdown",
      "source": [
        "# show data"
      ],
      "metadata": {
        "id": "euTo0aEmcs66"
      }
    },
    {
      "cell_type": "code",
      "execution_count": null,
      "metadata": {
        "colab": {
          "base_uri": "https://localhost:8080/"
        },
        "id": "hWdVX3M-L7QG",
        "outputId": "88b7dd8a-abd1-45b1-921a-eca9b4a35431"
      },
      "outputs": [
        {
          "output_type": "execute_result",
          "data": {
            "text/plain": [
              "[(1, 'Alice', 'HR', 70000),\n",
              " (2, 'Bob', 'HR', 80000),\n",
              " (3, 'Charlie', 'IT', 90000),\n",
              " (4, 'David', 'IT', 95000),\n",
              " (5, 'Eve', 'Finance', 100000),\n",
              " (6, 'Frank', 'Finance', 95000),\n",
              " (7, 'Grace', 'HR', 75000),\n",
              " (8, 'Hannah', 'HR', 82000),\n",
              " (9, 'Ivy', 'IT', 87000),\n",
              " (10, 'Jack', 'IT', 93000),\n",
              " (11, 'Karen', 'IT', 97000),\n",
              " (12, 'Leo', 'Finance', 98000),\n",
              " (13, 'Mia', 'Finance', 105000),\n",
              " (14, 'Nina', 'Sales', 110000),\n",
              " (15, 'Oscar', 'Sales', 95000),\n",
              " (16, 'Paul', 'Marketing', 90000),\n",
              " (17, 'Quinn', 'Marketing', 92000),\n",
              " (18, 'Rita', 'Marketing', 88000),\n",
              " (19, 'Steve', 'Sales', 99000),\n",
              " (20, 'Tina', 'Engineering', 115000),\n",
              " (21, 'Uma', 'Engineering', 110000),\n",
              " (22, 'Vera', 'Engineering', 108000)]"
            ]
          },
          "metadata": {},
          "execution_count": 6
        }
      ],
      "source": [
        "data"
      ]
    },
    {
      "cell_type": "markdown",
      "source": [
        "# convert list data into DataFrame"
      ],
      "metadata": {
        "id": "ulklTHw1cyQy"
      }
    },
    {
      "cell_type": "code",
      "execution_count": null,
      "metadata": {
        "id": "cEYnpZxHL8P-"
      },
      "outputs": [],
      "source": [
        "df = spark.createDataFrame(data,columns)"
      ]
    },
    {
      "cell_type": "markdown",
      "source": [
        "# Retrives records in **dataframe**"
      ],
      "metadata": {
        "id": "Yl2sym5Udya-"
      }
    },
    {
      "cell_type": "code",
      "execution_count": null,
      "metadata": {
        "colab": {
          "base_uri": "https://localhost:8080/"
        },
        "id": "gZvPjf92NssP",
        "outputId": "acc4e76c-7104-4a73-b3b7-acfd6ae79772"
      },
      "outputs": [
        {
          "output_type": "stream",
          "name": "stdout",
          "text": [
            "+---+-------+-----------+------+\n",
            "| Id|   Name| Department|Salary|\n",
            "+---+-------+-----------+------+\n",
            "|  1|  Alice|         HR| 70000|\n",
            "|  2|    Bob|         HR| 80000|\n",
            "|  3|Charlie|         IT| 90000|\n",
            "|  4|  David|         IT| 95000|\n",
            "|  5|    Eve|    Finance|100000|\n",
            "|  6|  Frank|    Finance| 95000|\n",
            "|  7|  Grace|         HR| 75000|\n",
            "|  8| Hannah|         HR| 82000|\n",
            "|  9|    Ivy|         IT| 87000|\n",
            "| 10|   Jack|         IT| 93000|\n",
            "| 11|  Karen|         IT| 97000|\n",
            "| 12|    Leo|    Finance| 98000|\n",
            "| 13|    Mia|    Finance|105000|\n",
            "| 14|   Nina|      Sales|110000|\n",
            "| 15|  Oscar|      Sales| 95000|\n",
            "| 16|   Paul|  Marketing| 90000|\n",
            "| 17|  Quinn|  Marketing| 92000|\n",
            "| 18|   Rita|  Marketing| 88000|\n",
            "| 19|  Steve|      Sales| 99000|\n",
            "| 20|   Tina|Engineering|115000|\n",
            "+---+-------+-----------+------+\n",
            "only showing top 20 rows\n",
            "\n"
          ]
        }
      ],
      "source": [
        "df.show()"
      ]
    },
    {
      "cell_type": "markdown",
      "source": [
        "# Retrives all records in **dataframe**\n"
      ],
      "metadata": {
        "id": "ZnMCF7Tvd-cM"
      }
    },
    {
      "cell_type": "code",
      "execution_count": null,
      "metadata": {
        "colab": {
          "base_uri": "https://localhost:8080/"
        },
        "id": "NjVUr1DjNuu1",
        "outputId": "3959fb11-09b1-49a6-c942-a08d9fcc450e"
      },
      "outputs": [
        {
          "output_type": "stream",
          "name": "stdout",
          "text": [
            "+---+-------+-----------+------+\n",
            "| Id|   Name| Department|Salary|\n",
            "+---+-------+-----------+------+\n",
            "|  1|  Alice|         HR| 70000|\n",
            "|  2|    Bob|         HR| 80000|\n",
            "|  3|Charlie|         IT| 90000|\n",
            "|  4|  David|         IT| 95000|\n",
            "|  5|    Eve|    Finance|100000|\n",
            "|  6|  Frank|    Finance| 95000|\n",
            "|  7|  Grace|         HR| 75000|\n",
            "|  8| Hannah|         HR| 82000|\n",
            "|  9|    Ivy|         IT| 87000|\n",
            "| 10|   Jack|         IT| 93000|\n",
            "| 11|  Karen|         IT| 97000|\n",
            "| 12|    Leo|    Finance| 98000|\n",
            "| 13|    Mia|    Finance|105000|\n",
            "| 14|   Nina|      Sales|110000|\n",
            "| 15|  Oscar|      Sales| 95000|\n",
            "| 16|   Paul|  Marketing| 90000|\n",
            "| 17|  Quinn|  Marketing| 92000|\n",
            "| 18|   Rita|  Marketing| 88000|\n",
            "| 19|  Steve|      Sales| 99000|\n",
            "| 20|   Tina|Engineering|115000|\n",
            "| 21|    Uma|Engineering|110000|\n",
            "| 22|   Vera|Engineering|108000|\n",
            "+---+-------+-----------+------+\n",
            "\n"
          ]
        }
      ],
      "source": [
        "df.show(df.count())"
      ]
    },
    {
      "cell_type": "markdown",
      "source": [
        "# Create New Data to Append\n"
      ],
      "metadata": {
        "id": "rMN8UqwzeO5r"
      }
    },
    {
      "cell_type": "code",
      "execution_count": null,
      "metadata": {
        "id": "VK1LNe_POGCj"
      },
      "outputs": [],
      "source": [
        "data2 = [\n",
        "    (23, \"Walter\", \"HR\", 77000),\n",
        "    (24, \"Xena\", \"HR\", 85000),\n",
        "    (25, \"Yara\", \"IT\", 96000),\n",
        "    (26, \"Zack\", \"IT\", 94000),\n",
        "    (27, \"Alice\", \"Finance\", 102000),\n",
        "    (28, \"Bob\", \"Finance\", 99000),\n",
        "    (29, \"Chris\", \"Sales\", 105000),\n",
        "    (30, \"Diana\", \"Sales\", 98000),\n",
        "    (31, \"Eric\", \"Marketing\", 93000),\n",
        "    (32, \"Fiona\", \"Marketing\", 91000),\n",
        "    (33, \"George\", \"Engineering\", 112000),\n",
        "    (34, \"Holly\", \"Engineering\", 109000),\n",
        "    (35, \"Ian\", \"Engineering\", 106000),\n",
        "    (36, \"Judy\", \"Operations\", 85000),\n",
        "    (37, \"Kyle\", \"Operations\", 87000),\n",
        "    (38, \"Laura\", \"Operations\", 88000),\n",
        "    (39, \"Mason\", \"Legal\", 95000),\n",
        "    (40, \"Nina\", \"Legal\", 92000),\n",
        "    (41, \"Owen\", \"Legal\", 97000),\n",
        "    (42, \"Pam\", \"Customer Support\", 78000),\n",
        "    (43, \"Quincy\", \"Customer Support\", 80000),\n",
        "    (44, \"Riley\", \"Customer Support\", 79000),\n",
        "    (45, \"Sophie\", \"Research\", 90000),\n",
        "    (46, \"Tim\", \"Research\", 88000),\n",
        "    (47, \"Uma\", \"Research\", 91000),\n",
        "    (48, \"Vince\", \"Design\", 94000),\n",
        "    (49, \"Wendy\", \"Design\", 96000),\n",
        "    (50, \"Xander\", \"Design\", 95000)\n",
        "\n",
        "]"
      ]
    },
    {
      "cell_type": "code",
      "execution_count": null,
      "metadata": {
        "id": "6catMW4eOcIi"
      },
      "outputs": [],
      "source": [
        "df2 = spark.createDataFrame(data2,columns)"
      ]
    },
    {
      "cell_type": "code",
      "execution_count": null,
      "metadata": {
        "colab": {
          "base_uri": "https://localhost:8080/"
        },
        "id": "HQ5xGcKPOg33",
        "outputId": "94c6992b-e29b-4ce3-82cd-2ba7d5a4fcb3"
      },
      "outputs": [
        {
          "output_type": "stream",
          "name": "stdout",
          "text": [
            "+---+------+----------------+------+\n",
            "| Id|  Name|      Department|Salary|\n",
            "+---+------+----------------+------+\n",
            "| 23|Walter|              HR| 77000|\n",
            "| 24|  Xena|              HR| 85000|\n",
            "| 25|  Yara|              IT| 96000|\n",
            "| 26|  Zack|              IT| 94000|\n",
            "| 27| Alice|         Finance|102000|\n",
            "| 28|   Bob|         Finance| 99000|\n",
            "| 29| Chris|           Sales|105000|\n",
            "| 30| Diana|           Sales| 98000|\n",
            "| 31|  Eric|       Marketing| 93000|\n",
            "| 32| Fiona|       Marketing| 91000|\n",
            "| 33|George|     Engineering|112000|\n",
            "| 34| Holly|     Engineering|109000|\n",
            "| 35|   Ian|     Engineering|106000|\n",
            "| 36|  Judy|      Operations| 85000|\n",
            "| 37|  Kyle|      Operations| 87000|\n",
            "| 38| Laura|      Operations| 88000|\n",
            "| 39| Mason|           Legal| 95000|\n",
            "| 40|  Nina|           Legal| 92000|\n",
            "| 41|  Owen|           Legal| 97000|\n",
            "| 42|   Pam|Customer Support| 78000|\n",
            "+---+------+----------------+------+\n",
            "only showing top 20 rows\n",
            "\n"
          ]
        }
      ],
      "source": [
        "df2.show()"
      ]
    },
    {
      "cell_type": "markdown",
      "source": [
        "# Append data and create new dataframe"
      ],
      "metadata": {
        "id": "GWc_dI2alvcR"
      }
    },
    {
      "cell_type": "code",
      "execution_count": null,
      "metadata": {
        "id": "01eQs5hrOx7X"
      },
      "outputs": [],
      "source": [
        "union_data = df.unionAll(df2)"
      ]
    },
    {
      "cell_type": "markdown",
      "source": [
        "# Retrive combine dataframe (Union_data)"
      ],
      "metadata": {
        "id": "Fj-Kp9rdmOvC"
      }
    },
    {
      "cell_type": "code",
      "execution_count": null,
      "metadata": {
        "colab": {
          "base_uri": "https://localhost:8080/"
        },
        "id": "2cnFrBkyPS39",
        "outputId": "55d4270d-7231-48d4-da2f-725bbdde2770"
      },
      "outputs": [
        {
          "output_type": "stream",
          "name": "stdout",
          "text": [
            "+---+-------+----------------+------+\n",
            "| Id|   Name|      Department|Salary|\n",
            "+---+-------+----------------+------+\n",
            "|  1|  Alice|              HR| 70000|\n",
            "|  2|    Bob|              HR| 80000|\n",
            "|  3|Charlie|              IT| 90000|\n",
            "|  4|  David|              IT| 95000|\n",
            "|  5|    Eve|         Finance|100000|\n",
            "|  6|  Frank|         Finance| 95000|\n",
            "|  7|  Grace|              HR| 75000|\n",
            "|  8| Hannah|              HR| 82000|\n",
            "|  9|    Ivy|              IT| 87000|\n",
            "| 10|   Jack|              IT| 93000|\n",
            "| 11|  Karen|              IT| 97000|\n",
            "| 12|    Leo|         Finance| 98000|\n",
            "| 13|    Mia|         Finance|105000|\n",
            "| 14|   Nina|           Sales|110000|\n",
            "| 15|  Oscar|           Sales| 95000|\n",
            "| 16|   Paul|       Marketing| 90000|\n",
            "| 17|  Quinn|       Marketing| 92000|\n",
            "| 18|   Rita|       Marketing| 88000|\n",
            "| 19|  Steve|           Sales| 99000|\n",
            "| 20|   Tina|     Engineering|115000|\n",
            "| 21|    Uma|     Engineering|110000|\n",
            "| 22|   Vera|     Engineering|108000|\n",
            "| 23| Walter|              HR| 77000|\n",
            "| 24|   Xena|              HR| 85000|\n",
            "| 25|   Yara|              IT| 96000|\n",
            "| 26|   Zack|              IT| 94000|\n",
            "| 27|  Alice|         Finance|102000|\n",
            "| 28|    Bob|         Finance| 99000|\n",
            "| 29|  Chris|           Sales|105000|\n",
            "| 30|  Diana|           Sales| 98000|\n",
            "| 31|   Eric|       Marketing| 93000|\n",
            "| 32|  Fiona|       Marketing| 91000|\n",
            "| 33| George|     Engineering|112000|\n",
            "| 34|  Holly|     Engineering|109000|\n",
            "| 35|    Ian|     Engineering|106000|\n",
            "| 36|   Judy|      Operations| 85000|\n",
            "| 37|   Kyle|      Operations| 87000|\n",
            "| 38|  Laura|      Operations| 88000|\n",
            "| 39|  Mason|           Legal| 95000|\n",
            "| 40|   Nina|           Legal| 92000|\n",
            "| 41|   Owen|           Legal| 97000|\n",
            "| 42|    Pam|Customer Support| 78000|\n",
            "| 43| Quincy|Customer Support| 80000|\n",
            "| 44|  Riley|Customer Support| 79000|\n",
            "| 45| Sophie|        Research| 90000|\n",
            "| 46|    Tim|        Research| 88000|\n",
            "| 47|    Uma|        Research| 91000|\n",
            "| 48|  Vince|          Design| 94000|\n",
            "| 49|  Wendy|          Design| 96000|\n",
            "| 50| Xander|          Design| 95000|\n",
            "+---+-------+----------------+------+\n",
            "\n"
          ]
        }
      ],
      "source": [
        "union_data.show(union_data.count())"
      ]
    },
    {
      "cell_type": "markdown",
      "source": [
        "# Number of records"
      ],
      "metadata": {
        "id": "49apfAVmDDUh"
      }
    },
    {
      "cell_type": "code",
      "source": [
        "count_row = union_data.count()\n",
        "print(count_row)"
      ],
      "metadata": {
        "colab": {
          "base_uri": "https://localhost:8080/"
        },
        "id": "AqxJYKLUCxks",
        "outputId": "26c0c43a-5af7-424a-bcdb-bbad1be227dd"
      },
      "execution_count": null,
      "outputs": [
        {
          "output_type": "stream",
          "name": "stdout",
          "text": [
            "50\n"
          ]
        }
      ]
    },
    {
      "cell_type": "markdown",
      "source": [
        "# duplicate check"
      ],
      "metadata": {
        "id": "-IxYmDMNDKXt"
      }
    },
    {
      "cell_type": "code",
      "source": [
        "No_of_duplicate = union_data.dropDuplicates()"
      ],
      "metadata": {
        "id": "Kd8mIGfODBVg"
      },
      "execution_count": null,
      "outputs": []
    },
    {
      "cell_type": "code",
      "source": [
        "number_duplicate = No_of_duplicate.count()\n",
        "print(f'Row before Remove Duplicate {count_row}')\n",
        "print(f'After drop duplicate {number_duplicate}')"
      ],
      "metadata": {
        "colab": {
          "base_uri": "https://localhost:8080/"
        },
        "id": "f4msRDgmDshJ",
        "outputId": "ab2570d9-1ac1-4b6f-f946-9c3071bf4847"
      },
      "execution_count": null,
      "outputs": [
        {
          "output_type": "stream",
          "name": "stdout",
          "text": [
            "Row before Remove Duplicate 50\n",
            "After drop duplicate 50\n"
          ]
        }
      ]
    },
    {
      "cell_type": "markdown",
      "source": [
        "# Check number of Department"
      ],
      "metadata": {
        "id": "EtHroRrPFGfN"
      }
    },
    {
      "cell_type": "code",
      "source": [
        "count_dep = union_data.select(\"Department\").distinct().count()\n",
        "print(count_dep)\n"
      ],
      "metadata": {
        "colab": {
          "base_uri": "https://localhost:8080/"
        },
        "id": "meAxXFN3F-4f",
        "outputId": "02e178cf-0191-4092-d989-62d57dd89ec1"
      },
      "execution_count": null,
      "outputs": [
        {
          "output_type": "stream",
          "name": "stdout",
          "text": [
            "11\n"
          ]
        }
      ]
    },
    {
      "cell_type": "markdown",
      "source": [
        "# List of Dept"
      ],
      "metadata": {
        "id": "BN3en2vbdOsG"
      }
    },
    {
      "cell_type": "code",
      "source": [
        "count_dep = union_data.select(\"Department\").distinct()\n",
        "count_dep.show()\n"
      ],
      "metadata": {
        "colab": {
          "base_uri": "https://localhost:8080/"
        },
        "id": "IJtbqh27FFTP",
        "outputId": "2a0670e2-767a-4aa7-97fb-e3d59db4900e"
      },
      "execution_count": null,
      "outputs": [
        {
          "output_type": "stream",
          "name": "stdout",
          "text": [
            "+----------------+\n",
            "|      Department|\n",
            "+----------------+\n",
            "|              HR|\n",
            "|         Finance|\n",
            "|              IT|\n",
            "|           Sales|\n",
            "|     Engineering|\n",
            "|       Marketing|\n",
            "|      Operations|\n",
            "|Customer Support|\n",
            "|        Research|\n",
            "|           Legal|\n",
            "|          Design|\n",
            "+----------------+\n",
            "\n"
          ]
        }
      ]
    },
    {
      "cell_type": "markdown",
      "source": [
        "# Each Department wise emp"
      ],
      "metadata": {
        "id": "Q7AGz5N8Qosh"
      }
    },
    {
      "cell_type": "code",
      "source": [
        "no_of_department = union_data.groupBy('Department').count()\n"
      ],
      "metadata": {
        "id": "MzXHzoh5c6Da"
      },
      "execution_count": null,
      "outputs": []
    },
    {
      "cell_type": "code",
      "source": [
        "no_of_department.show()"
      ],
      "metadata": {
        "colab": {
          "base_uri": "https://localhost:8080/"
        },
        "id": "Oqnn3dppFjwZ",
        "outputId": "49a007d9-817f-4312-d45d-7547911ac9e4"
      },
      "execution_count": null,
      "outputs": [
        {
          "output_type": "stream",
          "name": "stdout",
          "text": [
            "+----------------+-----+\n",
            "|      Department|count|\n",
            "+----------------+-----+\n",
            "|              HR|    6|\n",
            "|         Finance|    6|\n",
            "|              IT|    7|\n",
            "|           Sales|    5|\n",
            "|     Engineering|    6|\n",
            "|       Marketing|    5|\n",
            "|      Operations|    3|\n",
            "|Customer Support|    3|\n",
            "|        Research|    3|\n",
            "|           Legal|    3|\n",
            "|          Design|    3|\n",
            "+----------------+-----+\n",
            "\n"
          ]
        }
      ]
    },
    {
      "cell_type": "markdown",
      "source": [
        "# Apply window funcation in 'Department' and 'Salary' columns"
      ],
      "metadata": {
        "id": "8XVuax0wmi-T"
      }
    },
    {
      "cell_type": "code",
      "execution_count": null,
      "metadata": {
        "id": "6bQwEmWzPVdw"
      },
      "outputs": [],
      "source": [
        "windows = Window.partitionBy('Department').orderBy(f.desc('Salary'))"
      ]
    },
    {
      "cell_type": "markdown",
      "source": [
        "# Apply rank in dataframe"
      ],
      "metadata": {
        "id": "KnmJcaxZnT9L"
      }
    },
    {
      "cell_type": "code",
      "execution_count": null,
      "metadata": {
        "id": "9mRR4GFtRP0x"
      },
      "outputs": [],
      "source": [
        "df_rnk = union_data.withColumn('Rank',f.dense_rank().over(windows))"
      ]
    },
    {
      "cell_type": "markdown",
      "source": [
        "# Retrive data with additional rank columns"
      ],
      "metadata": {
        "id": "KW87z-cGnyQH"
      }
    },
    {
      "cell_type": "code",
      "execution_count": null,
      "metadata": {
        "colab": {
          "base_uri": "https://localhost:8080/"
        },
        "id": "IDI-Z5ysSHqk",
        "outputId": "c32ffb31-9d55-4f37-b069-8575673d7f35"
      },
      "outputs": [
        {
          "output_type": "stream",
          "name": "stdout",
          "text": [
            "+---+-------+----------------+------+----+\n",
            "| Id|   Name|      Department|Salary|Rank|\n",
            "+---+-------+----------------+------+----+\n",
            "| 43| Quincy|Customer Support| 80000|   1|\n",
            "| 44|  Riley|Customer Support| 79000|   2|\n",
            "| 42|    Pam|Customer Support| 78000|   3|\n",
            "| 49|  Wendy|          Design| 96000|   1|\n",
            "| 50| Xander|          Design| 95000|   2|\n",
            "| 48|  Vince|          Design| 94000|   3|\n",
            "| 20|   Tina|     Engineering|115000|   1|\n",
            "| 33| George|     Engineering|112000|   2|\n",
            "| 21|    Uma|     Engineering|110000|   3|\n",
            "| 34|  Holly|     Engineering|109000|   4|\n",
            "| 22|   Vera|     Engineering|108000|   5|\n",
            "| 35|    Ian|     Engineering|106000|   6|\n",
            "| 13|    Mia|         Finance|105000|   1|\n",
            "| 27|  Alice|         Finance|102000|   2|\n",
            "|  5|    Eve|         Finance|100000|   3|\n",
            "| 28|    Bob|         Finance| 99000|   4|\n",
            "| 12|    Leo|         Finance| 98000|   5|\n",
            "|  6|  Frank|         Finance| 95000|   6|\n",
            "| 24|   Xena|              HR| 85000|   1|\n",
            "|  8| Hannah|              HR| 82000|   2|\n",
            "|  2|    Bob|              HR| 80000|   3|\n",
            "| 23| Walter|              HR| 77000|   4|\n",
            "|  7|  Grace|              HR| 75000|   5|\n",
            "|  1|  Alice|              HR| 70000|   6|\n",
            "| 11|  Karen|              IT| 97000|   1|\n",
            "| 25|   Yara|              IT| 96000|   2|\n",
            "|  4|  David|              IT| 95000|   3|\n",
            "| 26|   Zack|              IT| 94000|   4|\n",
            "| 10|   Jack|              IT| 93000|   5|\n",
            "|  3|Charlie|              IT| 90000|   6|\n",
            "|  9|    Ivy|              IT| 87000|   7|\n",
            "| 41|   Owen|           Legal| 97000|   1|\n",
            "| 39|  Mason|           Legal| 95000|   2|\n",
            "| 40|   Nina|           Legal| 92000|   3|\n",
            "| 31|   Eric|       Marketing| 93000|   1|\n",
            "| 17|  Quinn|       Marketing| 92000|   2|\n",
            "| 32|  Fiona|       Marketing| 91000|   3|\n",
            "| 16|   Paul|       Marketing| 90000|   4|\n",
            "| 18|   Rita|       Marketing| 88000|   5|\n",
            "| 38|  Laura|      Operations| 88000|   1|\n",
            "| 37|   Kyle|      Operations| 87000|   2|\n",
            "| 36|   Judy|      Operations| 85000|   3|\n",
            "| 47|    Uma|        Research| 91000|   1|\n",
            "| 45| Sophie|        Research| 90000|   2|\n",
            "| 46|    Tim|        Research| 88000|   3|\n",
            "| 14|   Nina|           Sales|110000|   1|\n",
            "| 29|  Chris|           Sales|105000|   2|\n",
            "| 19|  Steve|           Sales| 99000|   3|\n",
            "| 30|  Diana|           Sales| 98000|   4|\n",
            "| 15|  Oscar|           Sales| 95000|   5|\n",
            "+---+-------+----------------+------+----+\n",
            "\n"
          ]
        }
      ],
      "source": [
        "df_rnk.show(df_rnk.count())"
      ]
    },
    {
      "cell_type": "markdown",
      "source": [
        "# Retrive rank 1 data with id, name, department, sal or rank"
      ],
      "metadata": {
        "id": "MCusxIca0twO"
      }
    },
    {
      "cell_type": "code",
      "execution_count": null,
      "metadata": {
        "colab": {
          "base_uri": "https://localhost:8080/"
        },
        "id": "BKVS5w5qSKx7",
        "outputId": "41d47bf1-3ad7-432a-ced0-337704adf0d9"
      },
      "outputs": [
        {
          "output_type": "stream",
          "name": "stdout",
          "text": [
            "+---+------+----------------+------+----+\n",
            "| Id|  Name|      Department|Salary|Rank|\n",
            "+---+------+----------------+------+----+\n",
            "| 43|Quincy|Customer Support| 80000|   1|\n",
            "| 49| Wendy|          Design| 96000|   1|\n",
            "| 20|  Tina|     Engineering|115000|   1|\n",
            "| 13|   Mia|         Finance|105000|   1|\n",
            "| 24|  Xena|              HR| 85000|   1|\n",
            "| 11| Karen|              IT| 97000|   1|\n",
            "| 41|  Owen|           Legal| 97000|   1|\n",
            "| 31|  Eric|       Marketing| 93000|   1|\n",
            "| 38| Laura|      Operations| 88000|   1|\n",
            "| 47|   Uma|        Research| 91000|   1|\n",
            "| 14|  Nina|           Sales|110000|   1|\n",
            "+---+------+----------------+------+----+\n",
            "\n",
            "+---+------+----------------+------+\n",
            "| Id|  Name|      Department|Salary|\n",
            "+---+------+----------------+------+\n",
            "| 43|Quincy|Customer Support| 80000|\n",
            "| 49| Wendy|          Design| 96000|\n",
            "| 20|  Tina|     Engineering|115000|\n",
            "| 13|   Mia|         Finance|105000|\n",
            "| 24|  Xena|              HR| 85000|\n",
            "| 11| Karen|              IT| 97000|\n",
            "| 41|  Owen|           Legal| 97000|\n",
            "| 31|  Eric|       Marketing| 93000|\n",
            "| 38| Laura|      Operations| 88000|\n",
            "| 47|   Uma|        Research| 91000|\n",
            "| 14|  Nina|           Sales|110000|\n",
            "+---+------+----------------+------+\n",
            "\n"
          ]
        }
      ],
      "source": [
        "rank1=df_rnk.filter(f.col(\"Rank\")==1)\n",
        "rank1.show()\n",
        "without_rank_columns = rank1.drop(\"Rank\").show()\n"
      ]
    },
    {
      "cell_type": "markdown",
      "source": [
        "# Retrive rank 4 data with id, name, department, sal or rank"
      ],
      "metadata": {
        "id": "Y2HehWYE1DsD"
      }
    },
    {
      "cell_type": "code",
      "execution_count": null,
      "metadata": {
        "colab": {
          "base_uri": "https://localhost:8080/"
        },
        "id": "uvnLqVWFTWDt",
        "outputId": "85c1b530-da6d-44d5-e23f-30ae38d9d82a"
      },
      "outputs": [
        {
          "output_type": "stream",
          "name": "stdout",
          "text": [
            "+---+------+-----------+------+----+\n",
            "| Id|  Name| Department|Salary|Rank|\n",
            "+---+------+-----------+------+----+\n",
            "| 34| Holly|Engineering|109000|   4|\n",
            "| 28|   Bob|    Finance| 99000|   4|\n",
            "| 23|Walter|         HR| 77000|   4|\n",
            "| 26|  Zack|         IT| 94000|   4|\n",
            "| 16|  Paul|  Marketing| 90000|   4|\n",
            "| 30| Diana|      Sales| 98000|   4|\n",
            "+---+------+-----------+------+----+\n",
            "\n",
            "+---+------+-----------+------+\n",
            "| Id|  Name| Department|Salary|\n",
            "+---+------+-----------+------+\n",
            "| 34| Holly|Engineering|109000|\n",
            "| 28|   Bob|    Finance| 99000|\n",
            "| 23|Walter|         HR| 77000|\n",
            "| 26|  Zack|         IT| 94000|\n",
            "| 16|  Paul|  Marketing| 90000|\n",
            "| 30| Diana|      Sales| 98000|\n",
            "+---+------+-----------+------+\n",
            "\n"
          ]
        }
      ],
      "source": [
        "rank4=df_rnk.filter(f.col(\"Rank\")==4)\n",
        "rank4.show()\n",
        "without_rank_columns = rank4.drop(\"Rank\").show()"
      ]
    },
    {
      "cell_type": "markdown",
      "source": [
        "# Thank you"
      ],
      "metadata": {
        "id": "w78MwvgZCZV1"
      }
    }
  ],
  "metadata": {
    "colab": {
      "provenance": []
    },
    "kernelspec": {
      "display_name": "Python 3",
      "name": "python3"
    },
    "language_info": {
      "name": "python"
    }
  },
  "nbformat": 4,
  "nbformat_minor": 0
}